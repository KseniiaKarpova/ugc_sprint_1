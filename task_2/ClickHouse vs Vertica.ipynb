{
 "cells": [
  {
   "cell_type": "markdown",
   "id": "8a4b910c",
   "metadata": {},
   "source": [
    "# Установка библиотек"
   ]
  },
  {
   "cell_type": "code",
   "execution_count": 1,
   "id": "10daf55c",
   "metadata": {
    "collapsed": true
   },
   "outputs": [
    {
     "name": "stdout",
     "output_type": "stream",
     "text": [
      "Defaulting to user installation because normal site-packages is not writeable\n",
      "Collecting clickhouse-driver\n",
      "  Downloading clickhouse_driver-0.2.7-cp310-cp310-manylinux_2_17_x86_64.manylinux2014_x86_64.whl.metadata (6.1 kB)\n",
      "Requirement already satisfied: pytz in /usr/lib/python3/dist-packages (from clickhouse-driver) (2022.1)\n",
      "Collecting tzlocal (from clickhouse-driver)\n",
      "  Downloading tzlocal-5.2-py3-none-any.whl.metadata (7.8 kB)\n",
      "Downloading clickhouse_driver-0.2.7-cp310-cp310-manylinux_2_17_x86_64.manylinux2014_x86_64.whl (935 kB)\n",
      "\u001b[2K   \u001b[90m━━━━━━━━━━━━━━━━━━━━━━━━━━━━━━━━━━━━━━━━\u001b[0m \u001b[32m935.1/935.1 kB\u001b[0m \u001b[31m3.6 MB/s\u001b[0m eta \u001b[36m0:00:00\u001b[0m00:01\u001b[0m00:01\u001b[0mm\n",
      "\u001b[?25hDownloading tzlocal-5.2-py3-none-any.whl (17 kB)\n",
      "\u001b[33mDEPRECATION: distro-info 1.1build1 has a non-standard version number. pip 24.0 will enforce this behaviour change. A possible replacement is to upgrade to a newer version of distro-info or contact the author to suggest that they release a version with a conforming version number. Discussion can be found at https://github.com/pypa/pip/issues/12063\u001b[0m\u001b[33m\n",
      "\u001b[0m\u001b[33mDEPRECATION: python-debian 0.1.43ubuntu1 has a non-standard version number. pip 24.0 will enforce this behaviour change. A possible replacement is to upgrade to a newer version of python-debian or contact the author to suggest that they release a version with a conforming version number. Discussion can be found at https://github.com/pypa/pip/issues/12063\u001b[0m\u001b[33m\n",
      "\u001b[0mInstalling collected packages: tzlocal, clickhouse-driver\n",
      "Successfully installed clickhouse-driver-0.2.7 tzlocal-5.2\n",
      "\n",
      "\u001b[1m[\u001b[0m\u001b[34;49mnotice\u001b[0m\u001b[1;39;49m]\u001b[0m\u001b[39;49m A new release of pip is available: \u001b[0m\u001b[31;49m23.3.2\u001b[0m\u001b[39;49m -> \u001b[0m\u001b[32;49m24.0\u001b[0m\n",
      "\u001b[1m[\u001b[0m\u001b[34;49mnotice\u001b[0m\u001b[1;39;49m]\u001b[0m\u001b[39;49m To update, run: \u001b[0m\u001b[32;49mpython3 -m pip install --upgrade pip\u001b[0m\n"
     ]
    }
   ],
   "source": [
    "!pip install clickhouse-driver "
   ]
  },
  {
   "cell_type": "code",
   "execution_count": 2,
   "id": "a23a2ce9",
   "metadata": {
    "collapsed": true
   },
   "outputs": [
    {
     "name": "stdout",
     "output_type": "stream",
     "text": [
      "Defaulting to user installation because normal site-packages is not writeable\n",
      "Collecting vertica-python\n",
      "  Downloading vertica_python-1.3.8-py3-none-any.whl.metadata (1.5 kB)\n",
      "Requirement already satisfied: python-dateutil>=1.5 in /home/kseniia/.local/lib/python3.10/site-packages (from vertica-python) (2.8.2)\n",
      "Requirement already satisfied: six>=1.10.0 in /usr/lib/python3/dist-packages (from vertica-python) (1.16.0)\n",
      "Downloading vertica_python-1.3.8-py3-none-any.whl (189 kB)\n",
      "\u001b[2K   \u001b[90m━━━━━━━━━━━━━━━━━━━━━━━━━━━━━━━━━━━━━━━━\u001b[0m \u001b[32m189.7/189.7 kB\u001b[0m \u001b[31m1.2 MB/s\u001b[0m eta \u001b[36m0:00:00\u001b[0ma \u001b[36m0:00:01\u001b[0mm\n",
      "\u001b[?25h\u001b[33mDEPRECATION: distro-info 1.1build1 has a non-standard version number. pip 24.0 will enforce this behaviour change. A possible replacement is to upgrade to a newer version of distro-info or contact the author to suggest that they release a version with a conforming version number. Discussion can be found at https://github.com/pypa/pip/issues/12063\u001b[0m\u001b[33m\n",
      "\u001b[0m\u001b[33mDEPRECATION: python-debian 0.1.43ubuntu1 has a non-standard version number. pip 24.0 will enforce this behaviour change. A possible replacement is to upgrade to a newer version of python-debian or contact the author to suggest that they release a version with a conforming version number. Discussion can be found at https://github.com/pypa/pip/issues/12063\u001b[0m\u001b[33m\n",
      "\u001b[0mInstalling collected packages: vertica-python\n",
      "Successfully installed vertica-python-1.3.8\n",
      "\n",
      "\u001b[1m[\u001b[0m\u001b[34;49mnotice\u001b[0m\u001b[1;39;49m]\u001b[0m\u001b[39;49m A new release of pip is available: \u001b[0m\u001b[31;49m23.3.2\u001b[0m\u001b[39;49m -> \u001b[0m\u001b[32;49m24.0\u001b[0m\n",
      "\u001b[1m[\u001b[0m\u001b[34;49mnotice\u001b[0m\u001b[1;39;49m]\u001b[0m\u001b[39;49m To update, run: \u001b[0m\u001b[32;49mpython3 -m pip install --upgrade pip\u001b[0m\n"
     ]
    }
   ],
   "source": [
    "!pip install vertica-python"
   ]
  },
  {
   "cell_type": "code",
   "execution_count": 59,
   "id": "2444d503",
   "metadata": {
    "collapsed": true
   },
   "outputs": [
    {
     "name": "stdout",
     "output_type": "stream",
     "text": [
      "Defaulting to user installation because normal site-packages is not writeable\n",
      "Requirement already satisfied: pandas in /home/kseniia/.local/lib/python3.10/site-packages (1.5.3)\n",
      "Requirement already satisfied: tqdm in /home/kseniia/.local/lib/python3.10/site-packages (4.64.1)\n",
      "Requirement already satisfied: numpy in /home/kseniia/.local/lib/python3.10/site-packages (1.23.5)\n",
      "Collecting matplotlib\n",
      "  Downloading matplotlib-3.8.3-cp310-cp310-manylinux_2_17_x86_64.manylinux2014_x86_64.whl.metadata (5.8 kB)\n",
      "Requirement already satisfied: python-dateutil>=2.8.1 in /home/kseniia/.local/lib/python3.10/site-packages (from pandas) (2.8.2)\n",
      "Requirement already satisfied: pytz>=2020.1 in /usr/lib/python3/dist-packages (from pandas) (2022.1)\n",
      "Collecting contourpy>=1.0.1 (from matplotlib)\n",
      "  Downloading contourpy-1.2.0-cp310-cp310-manylinux_2_17_x86_64.manylinux2014_x86_64.whl.metadata (5.8 kB)\n",
      "Collecting cycler>=0.10 (from matplotlib)\n",
      "  Downloading cycler-0.12.1-py3-none-any.whl.metadata (3.8 kB)\n",
      "Collecting fonttools>=4.22.0 (from matplotlib)\n",
      "  Downloading fonttools-4.49.0-cp310-cp310-manylinux_2_17_x86_64.manylinux2014_x86_64.whl.metadata (159 kB)\n",
      "\u001b[2K     \u001b[90m━━━━━━━━━━━━━━━━━━━━━━━━━━━━━━━━━━━━━━━\u001b[0m \u001b[32m159.1/159.1 kB\u001b[0m \u001b[31m1.1 MB/s\u001b[0m eta \u001b[36m0:00:00\u001b[0ma \u001b[36m0:00:01\u001b[0m\n",
      "\u001b[?25hCollecting kiwisolver>=1.3.1 (from matplotlib)\n",
      "  Downloading kiwisolver-1.4.5-cp310-cp310-manylinux_2_12_x86_64.manylinux2010_x86_64.whl.metadata (6.4 kB)\n",
      "Requirement already satisfied: packaging>=20.0 in /home/kseniia/.local/lib/python3.10/site-packages (from matplotlib) (23.1)\n",
      "Requirement already satisfied: pillow>=8 in /usr/lib/python3/dist-packages (from matplotlib) (9.0.1)\n",
      "Requirement already satisfied: pyparsing>=2.3.1 in /usr/lib/python3/dist-packages (from matplotlib) (2.4.7)\n",
      "Requirement already satisfied: six>=1.5 in /usr/lib/python3/dist-packages (from python-dateutil>=2.8.1->pandas) (1.16.0)\n",
      "Downloading matplotlib-3.8.3-cp310-cp310-manylinux_2_17_x86_64.manylinux2014_x86_64.whl (11.6 MB)\n",
      "\u001b[2K   \u001b[90m━━━━━━━━━━━━━━━━━━━━━━━━━━━━━━━━━━━━━━━━\u001b[0m \u001b[32m11.6/11.6 MB\u001b[0m \u001b[31m3.4 MB/s\u001b[0m eta \u001b[36m0:00:00\u001b[0m00:01\u001b[0m00:01\u001b[0m\n",
      "\u001b[?25hDownloading contourpy-1.2.0-cp310-cp310-manylinux_2_17_x86_64.manylinux2014_x86_64.whl (310 kB)\n",
      "\u001b[2K   \u001b[90m━━━━━━━━━━━━━━━━━━━━━━━━━━━━━━━━━━━━━━━━\u001b[0m \u001b[32m310.7/310.7 kB\u001b[0m \u001b[31m3.2 MB/s\u001b[0m eta \u001b[36m0:00:00\u001b[0ma \u001b[36m0:00:01\u001b[0m\n",
      "\u001b[?25hDownloading cycler-0.12.1-py3-none-any.whl (8.3 kB)\n",
      "Downloading fonttools-4.49.0-cp310-cp310-manylinux_2_17_x86_64.manylinux2014_x86_64.whl (4.6 MB)\n",
      "\u001b[2K   \u001b[90m━━━━━━━━━━━━━━━━━━━━━━━━━━━━━━━━━━━━━━━━\u001b[0m \u001b[32m4.6/4.6 MB\u001b[0m \u001b[31m3.5 MB/s\u001b[0m eta \u001b[36m0:00:00\u001b[0m00:01\u001b[0m00:01\u001b[0m\n",
      "\u001b[?25hDownloading kiwisolver-1.4.5-cp310-cp310-manylinux_2_12_x86_64.manylinux2010_x86_64.whl (1.6 MB)\n",
      "\u001b[2K   \u001b[90m━━━━━━━━━━━━━━━━━━━━━━━━━━━━━━━━━━━━━━━━\u001b[0m \u001b[32m1.6/1.6 MB\u001b[0m \u001b[31m3.6 MB/s\u001b[0m eta \u001b[36m0:00:00\u001b[0m00:01\u001b[0m00:01\u001b[0m\n",
      "\u001b[?25h\u001b[33mDEPRECATION: distro-info 1.1build1 has a non-standard version number. pip 24.0 will enforce this behaviour change. A possible replacement is to upgrade to a newer version of distro-info or contact the author to suggest that they release a version with a conforming version number. Discussion can be found at https://github.com/pypa/pip/issues/12063\u001b[0m\u001b[33m\n",
      "\u001b[0m\u001b[33mDEPRECATION: python-debian 0.1.43ubuntu1 has a non-standard version number. pip 24.0 will enforce this behaviour change. A possible replacement is to upgrade to a newer version of python-debian or contact the author to suggest that they release a version with a conforming version number. Discussion can be found at https://github.com/pypa/pip/issues/12063\u001b[0m\u001b[33m\n",
      "\u001b[0mInstalling collected packages: kiwisolver, fonttools, cycler, contourpy, matplotlib\n",
      "Successfully installed contourpy-1.2.0 cycler-0.12.1 fonttools-4.49.0 kiwisolver-1.4.5 matplotlib-3.8.3\n",
      "\n",
      "\u001b[1m[\u001b[0m\u001b[34;49mnotice\u001b[0m\u001b[1;39;49m]\u001b[0m\u001b[39;49m A new release of pip is available: \u001b[0m\u001b[31;49m23.3.2\u001b[0m\u001b[39;49m -> \u001b[0m\u001b[32;49m24.0\u001b[0m\n",
      "\u001b[1m[\u001b[0m\u001b[34;49mnotice\u001b[0m\u001b[1;39;49m]\u001b[0m\u001b[39;49m To update, run: \u001b[0m\u001b[32;49mpython3 -m pip install --upgrade pip\u001b[0m\n"
     ]
    }
   ],
   "source": [
    "!pip install pandas tqdm numpy matplotlib"
   ]
  },
  {
   "cell_type": "markdown",
   "id": "a9980783",
   "metadata": {},
   "source": [
    "# Импорт библиотек"
   ]
  },
  {
   "cell_type": "code",
   "execution_count": 90,
   "id": "4622b437",
   "metadata": {},
   "outputs": [],
   "source": [
    "import pandas as pd\n",
    "import numpy as np\n",
    "from tqdm import tqdm\n",
    "tqdm.pandas()\n",
    "\n",
    "import uuid\n",
    "import random\n",
    "from datetime import datetime\n",
    "\n",
    "from clickhouse_driver import Client\n",
    "import vertica_python"
   ]
  },
  {
   "cell_type": "markdown",
   "id": "d093dc33",
   "metadata": {},
   "source": [
    "# Базовые функции"
   ]
  },
  {
   "cell_type": "code",
   "execution_count": 43,
   "id": "aaa297e4",
   "metadata": {},
   "outputs": [],
   "source": [
    "BATCH_SIZE = 1000\n",
    "COUNT_BATCH = 2000000//BATCH_SIZE\n",
    "\n",
    "ROWS = ['user_id', 'film_id', 'some_data', 'gender', 'timestamp']\n",
    "\n",
    "def generate_random_data():\n",
    "    batch = []\n",
    "    for i in range(BATCH_SIZE):\n",
    "        batch.append((\n",
    "            uuid.uuid4(),\n",
    "            uuid.uuid4(),\n",
    "            random.randint(0, 1000),\n",
    "            random.choice(['M', 'F']),\n",
    "            datetime.now()\n",
    "        ))\n",
    "   \n",
    "\n",
    "    return batch"
   ]
  },
  {
   "cell_type": "code",
   "execution_count": 35,
   "id": "09108c8a",
   "metadata": {},
   "outputs": [
    {
     "data": {
      "text/plain": [
       "(UUID('70e2cca7-336c-4995-b2fe-670a62cb14b9'),\n",
       " UUID('6ff77048-c8f6-4c47-a340-ee138781bc21'),\n",
       " 355,\n",
       " 'M',\n",
       " datetime.datetime(2024, 2, 29, 15, 50, 47, 90707))"
      ]
     },
     "execution_count": 35,
     "metadata": {},
     "output_type": "execute_result"
    }
   ],
   "source": [
    "generate_random_data()[0]"
   ]
  },
  {
   "cell_type": "code",
   "execution_count": 26,
   "id": "f3298875",
   "metadata": {},
   "outputs": [],
   "source": [
    "df = pd.DataFrame()"
   ]
  },
  {
   "cell_type": "markdown",
   "id": "69a07bb1",
   "metadata": {},
   "source": [
    "# ClickHouse"
   ]
  },
  {
   "cell_type": "markdown",
   "id": "df64157d",
   "metadata": {},
   "source": [
    "## 1. Подключение"
   ]
  },
  {
   "cell_type": "code",
   "execution_count": 28,
   "id": "d5accd93",
   "metadata": {},
   "outputs": [],
   "source": [
    "clientCH = Client(host='localhost') "
   ]
  },
  {
   "cell_type": "markdown",
   "id": "39d0e872",
   "metadata": {},
   "source": [
    "## 2. Создание таблицы"
   ]
  },
  {
   "cell_type": "code",
   "execution_count": 29,
   "id": "f4999785",
   "metadata": {},
   "outputs": [
    {
     "data": {
      "text/plain": [
       "[('_temporary_and_external_tables',), ('default',), ('system',)]"
      ]
     },
     "execution_count": 29,
     "metadata": {},
     "output_type": "execute_result"
    }
   ],
   "source": [
    "clientCH.execute('SHOW DATABASES')"
   ]
  },
  {
   "cell_type": "code",
   "execution_count": 32,
   "id": "c8448bea",
   "metadata": {},
   "outputs": [
    {
     "data": {
      "text/plain": [
       "[]"
      ]
     },
     "execution_count": 32,
     "metadata": {},
     "output_type": "execute_result"
    }
   ],
   "source": [
    "clientCH.execute('CREATE DATABASE IF NOT EXISTS test_analytics;')"
   ]
  },
  {
   "cell_type": "code",
   "execution_count": 40,
   "id": "338df155",
   "metadata": {},
   "outputs": [
    {
     "data": {
      "text/plain": [
       "[]"
      ]
     },
     "execution_count": 40,
     "metadata": {},
     "output_type": "execute_result"
    }
   ],
   "source": [
    "init = \"\"\"CREATE TABLE IF NOT EXISTS test_analytics.test (\n",
    "    user_id UUID,\n",
    "    film_id UUID,\n",
    "    some_data UInt32,\n",
    "    gender Enum('M'=1, 'F'=0),\n",
    "    timestamp TIMESTAMP\n",
    ")\n",
    "Engine=MergeTree()\n",
    "ORDER BY (user_id, film_id, timestamp);\"\"\"\n",
    "clientCH.execute(init)"
   ]
  },
  {
   "cell_type": "markdown",
   "id": "e1713bb1",
   "metadata": {},
   "source": [
    "## 3. Test"
   ]
  },
  {
   "cell_type": "code",
   "execution_count": 44,
   "id": "4aca0e42",
   "metadata": {},
   "outputs": [],
   "source": [
    "df['num'] = pd.Series([x for x in range(COUNT_BATCH)])"
   ]
  },
  {
   "cell_type": "code",
   "execution_count": 48,
   "id": "f9772dbc",
   "metadata": {},
   "outputs": [],
   "source": [
    "def test_insert(i):\n",
    "    data = generate_random_data()\n",
    "    now = datetime.now()\n",
    "    clientCH.execute('INSERT INTO test_analytics.test (user_id, film_id, some_data, gender, timestamp) VALUES',\n",
    "                     data)\n",
    "    later = datetime.now()\n",
    "    return (later-now).total_seconds()"
   ]
  },
  {
   "cell_type": "code",
   "execution_count": 49,
   "id": "2869af9e",
   "metadata": {},
   "outputs": [
    {
     "name": "stderr",
     "output_type": "stream",
     "text": [
      "100%|████████████████████████████████████████████████████████████████████████████████████████████████████████████████████████████████████████████████████████████████████████████████| 2000/2000 [00:14<00:00, 140.88it/s]\n"
     ]
    }
   ],
   "source": [
    "df['ClickHouse insert'] = df['num'].progress_apply(test_insert)"
   ]
  },
  {
   "cell_type": "code",
   "execution_count": 51,
   "id": "a0588aee",
   "metadata": {},
   "outputs": [
    {
     "data": {
      "text/plain": [
       "[(UUID('ddb3412f-3a35-4416-8000-04070e17dfd7'),\n",
       "  UUID('f2aa6e6c-a03c-4bd5-ab2c-8b8fc6731509'),\n",
       "  802,\n",
       "  'F',\n",
       "  datetime.datetime(2024, 2, 29, 16, 4, 10)),\n",
       " (UUID('14fc291f-cc81-423a-8000-06b1877334d2'),\n",
       "  UUID('0eb44e33-4706-49b0-bf70-43b3c3d85268'),\n",
       "  280,\n",
       "  'F',\n",
       "  datetime.datetime(2024, 2, 29, 16, 4, 14)),\n",
       " (UUID('394a6bf0-4d08-45fd-8000-0c5bbbd54f35'),\n",
       "  UUID('52a823a8-12b3-4959-ad36-57a0b29266e9'),\n",
       "  922,\n",
       "  'F',\n",
       "  datetime.datetime(2024, 2, 29, 16, 4, 13)),\n",
       " (UUID('66de9a11-7816-44db-8000-10ac51fbb0b3'),\n",
       "  UUID('af89a4fc-f45c-491c-8603-8b5e1a2c3fc9'),\n",
       "  114,\n",
       "  'F',\n",
       "  datetime.datetime(2024, 2, 29, 16, 4, 13)),\n",
       " (UUID('c8d92d16-4137-4ffd-8000-153f905ca610'),\n",
       "  UUID('ab83ba4f-38cf-4437-be6c-3a63d537b4b1'),\n",
       "  313,\n",
       "  'F',\n",
       "  datetime.datetime(2024, 2, 29, 16, 4, 11))]"
      ]
     },
     "execution_count": 51,
     "metadata": {},
     "output_type": "execute_result"
    }
   ],
   "source": [
    "clientCH.execute('SELECT top 5 * FROM test_analytics.test')"
   ]
  },
  {
   "cell_type": "code",
   "execution_count": 53,
   "id": "6bef3b2e",
   "metadata": {},
   "outputs": [
    {
     "data": {
      "text/plain": [
       "count    2000.000000\n",
       "mean        0.003582\n",
       "std         0.000471\n",
       "min         0.002657\n",
       "25%         0.003296\n",
       "50%         0.003543\n",
       "75%         0.003825\n",
       "max         0.009686\n",
       "Name: ClickHouse insert, dtype: float64"
      ]
     },
     "execution_count": 53,
     "metadata": {},
     "output_type": "execute_result"
    }
   ],
   "source": [
    "df['ClickHouse insert'].describe()"
   ]
  },
  {
   "cell_type": "code",
   "execution_count": 63,
   "id": "c6ac2f26",
   "metadata": {},
   "outputs": [
    {
     "data": {
      "image/png": "[encoded data removed]",
      "text/plain": [
       "<Figure size 640x480 with 1 Axes>"
      ]
     },
     "metadata": {},
     "output_type": "display_data"
    }
   ],
   "source": [
    "df['ClickHouse insert'].hist();"
   ]
  },
  {
   "cell_type": "code",
   "execution_count": 72,
   "id": "33a15fdd",
   "metadata": {},
   "outputs": [],
   "source": [
    "def test_select(i):\n",
    "    i = random.randint(0, 1000)\n",
    "    g = random.choice(['M', 'F'])\n",
    "    now = datetime.now()\n",
    "    clientCH.execute(f\"SELECT * FROM test_analytics.test where some_data={i} and gender = '{g}'\")\n",
    "    later = datetime.now()\n",
    "    return (later-now).total_seconds()"
   ]
  },
  {
   "cell_type": "code",
   "execution_count": 73,
   "id": "5e24d284",
   "metadata": {},
   "outputs": [
    {
     "name": "stderr",
     "output_type": "stream",
     "text": [
      "100%|█████████████████████████████████████████████████████████████████████████████████████████████████████████████████████████████████████████████████████████████████████████████████| 2000/2000 [00:48<00:00, 41.43it/s]\n"
     ]
    }
   ],
   "source": [
    "df['ClickHouse select_1'] = df['num'].progress_apply(test_select)"
   ]
  },
  {
   "cell_type": "code",
   "execution_count": 76,
   "id": "ca5dc5d3",
   "metadata": {},
   "outputs": [],
   "source": [
    "def test_select(i):\n",
    "    i = uuid.uuid4()\n",
    "    now = datetime.now()\n",
    "    clientCH.execute(f\"SELECT * FROM test_analytics.test where user_id='{i}'\")\n",
    "    later = datetime.now()\n",
    "    return (later-now).total_seconds()"
   ]
  },
  {
   "cell_type": "code",
   "execution_count": 77,
   "id": "6165cc0a",
   "metadata": {},
   "outputs": [
    {
     "name": "stderr",
     "output_type": "stream",
     "text": [
      "100%|████████████████████████████████████████████████████████████████████████████████████████████████████████████████████████████████████████████████████████████████████████████████| 2000/2000 [00:03<00:00, 613.95it/s]\n"
     ]
    }
   ],
   "source": [
    "df['ClickHouse select_2'] = df['num'].progress_apply(test_select)"
   ]
  },
  {
   "cell_type": "code",
   "execution_count": 78,
   "id": "8ff13c0f",
   "metadata": {},
   "outputs": [
    {
     "data": {
      "text/plain": [
       "count    2000.000000\n",
       "mean        0.023971\n",
       "std         0.013500\n",
       "min         0.018744\n",
       "25%         0.021166\n",
       "50%         0.022210\n",
       "75%         0.024217\n",
       "max         0.232452\n",
       "Name: ClickHouse select_1, dtype: float64"
      ]
     },
     "execution_count": 78,
     "metadata": {},
     "output_type": "execute_result"
    }
   ],
   "source": [
    "df['ClickHouse select_1'].describe()"
   ]
  },
  {
   "cell_type": "code",
   "execution_count": 79,
   "id": "38a918a7",
   "metadata": {},
   "outputs": [
    {
     "data": {
      "text/plain": [
       "count    2000.000000\n",
       "mean        0.001604\n",
       "std         0.000216\n",
       "min         0.001260\n",
       "25%         0.001477\n",
       "50%         0.001559\n",
       "75%         0.001673\n",
       "max         0.004639\n",
       "Name: ClickHouse select_2, dtype: float64"
      ]
     },
     "execution_count": 79,
     "metadata": {},
     "output_type": "execute_result"
    }
   ],
   "source": [
    "df['ClickHouse select_2'].describe()"
   ]
  },
  {
   "cell_type": "code",
   "execution_count": 89,
   "id": "38b562ee",
   "metadata": {},
   "outputs": [
    {
     "data": {
      "text/plain": [
       "<Axes: >"
      ]
     },
     "execution_count": 89,
     "metadata": {},
     "output_type": "execute_result"
    },
    {
     "data": {
      "image/png": "[encoded data removed]",
      "text/plain": [
       "<Figure size 640x480 with 1 Axes>"
      ]
     },
     "metadata": {},
     "output_type": "display_data"
    }
   ],
   "source": [
    "df[['ClickHouse insert', 'ClickHouse select_1','ClickHouse select_2']].boxplot()"
   ]
  },
  {
   "cell_type": "markdown",
   "id": "e37cfc12",
   "metadata": {},
   "source": [
    "# Vertica"
   ]
  },
  {
   "cell_type": "markdown",
   "id": "22e4756b",
   "metadata": {},
   "source": [
    "## 1. Подключение"
   ]
  },
  {
   "cell_type": "code",
   "execution_count": 91,
   "id": "46b59fc9",
   "metadata": {},
   "outputs": [],
   "source": [
    "connection_info = {\n",
    "    'host': '127.0.0.1',\n",
    "    'port': 5433,\n",
    "    'user': 'dbadmin',\n",
    "    'password': '',\n",
    "    'database': 'docker',\n",
    "    'autocommit': True,\n",
    "}"
   ]
  },
  {
   "cell_type": "markdown",
   "id": "4adace75",
   "metadata": {},
   "source": [
    "## 2. Создание таблицы"
   ]
  },
  {
   "cell_type": "code",
   "execution_count": 93,
   "id": "3b07ed18",
   "metadata": {},
   "outputs": [],
   "source": [
    "with vertica_python.connect(**connection_info) as connection:\n",
    "    cursor = connection.cursor()\n",
    "    cursor.execute(\"\"\"\n",
    "    CREATE TABLE test (\n",
    "        user_id UUID NOT NULL,\n",
    "        film_id UUID NOT NULL,\n",
    "        some_data INTEGER NOT NULL,\n",
    "        gender VARCHAR(256) NOT NULL,\n",
    "        timestamp TIMESTAMP NOT NULL\n",
    "    );\n",
    "    \"\"\")"
   ]
  },
  {
   "cell_type": "code",
   "execution_count": 96,
   "id": "0f1bad3f",
   "metadata": {},
   "outputs": [],
   "source": [
    "with vertica_python.connect(**connection_info) as connection:\n",
    "    cursor = connection.cursor()\n",
    "    cursor.execute(\"\"\"\n",
    "        SELECT * FROM test;\n",
    "    \"\"\")\n",
    "    for row in cursor.iterate():\n",
    "        print(row)"
   ]
  },
  {
   "cell_type": "markdown",
   "id": "ed6d9e7b",
   "metadata": {},
   "source": [
    "## 3. Test"
   ]
  },
  {
   "cell_type": "code",
   "execution_count": 121,
   "id": "6a1a5006",
   "metadata": {},
   "outputs": [],
   "source": [
    "def test_insert(i):\n",
    "    data = generate_random_data()\n",
    "    with vertica_python.connect(**connection_info) as connection: \n",
    "        now = datetime.now()\n",
    "        with connection.cursor() as cursor:\n",
    "            cursor.executemany('INSERT INTO test (user_id, film_id, some_data, gender, timestamp) VALUES (?,?,?,?,?);',\n",
    "                       data,\n",
    "                       use_prepared_statements=True)\n",
    "            later = datetime.now()\n",
    "    return (later-now).total_seconds()"
   ]
  },
  {
   "cell_type": "code",
   "execution_count": 122,
   "id": "7fb9c59b",
   "metadata": {},
   "outputs": [
    {
     "name": "stderr",
     "output_type": "stream",
     "text": [
      "100%|███████████████████████████████████████████████████████████████████████████████████████████████████████████████████████████████████████████████████████████████████████████████| 2000/2000 [1:49:44<00:00,  3.29s/it]\n"
     ]
    }
   ],
   "source": [
    "df['Vertica insert'] = df['num'].progress_apply(test_insert)"
   ]
  },
  {
   "cell_type": "code",
   "execution_count": 123,
   "id": "a9c056f3",
   "metadata": {},
   "outputs": [
    {
     "data": {
      "text/plain": [
       "count    2000.000000\n",
       "mean        1.259983\n",
       "std         0.254277\n",
       "min         1.056288\n",
       "25%         1.135452\n",
       "50%         1.183557\n",
       "75%         1.284933\n",
       "max         2.737254\n",
       "Name: Vertica insert, dtype: float64"
      ]
     },
     "execution_count": 123,
     "metadata": {},
     "output_type": "execute_result"
    }
   ],
   "source": [
    "df['Vertica insert'].describe()"
   ]
  },
  {
   "cell_type": "code",
   "execution_count": 126,
   "id": "7b2902e2",
   "metadata": {},
   "outputs": [],
   "source": [
    "def test_select(i):\n",
    "    i = random.randint(0, 1000)\n",
    "    g = random.choice(['M', 'F'])\n",
    "    with vertica_python.connect(**connection_info) as connection:\n",
    "        now = datetime.now()\n",
    "        cursor = connection.cursor()  \n",
    "        cursor.execute(f\"SELECT * FROM test where some_data={i} and gender = '{g}'\") \n",
    "        cursor.fetchall()\n",
    "        later = datetime.now()\n",
    "    return (later-now).total_seconds()"
   ]
  },
  {
   "cell_type": "code",
   "execution_count": 127,
   "id": "0b38521c",
   "metadata": {},
   "outputs": [
    {
     "name": "stderr",
     "output_type": "stream",
     "text": [
      "100%|█████████████████████████████████████████████████████████████████████████████████████████████████████████████████████████████████████████████████████████████████████████████████| 2000/2000 [00:45<00:00, 43.92it/s]\n"
     ]
    }
   ],
   "source": [
    "df['Vertica select_1'] = df['num'].progress_apply(test_select)"
   ]
  },
  {
   "cell_type": "code",
   "execution_count": 129,
   "id": "baed4704",
   "metadata": {},
   "outputs": [],
   "source": [
    "def test_select(i):\n",
    "    i = uuid.uuid4()\n",
    "    with vertica_python.connect(**connection_info) as connection:\n",
    "        now = datetime.now()\n",
    "        cursor = connection.cursor()  \n",
    "        cursor.execute(f\"SELECT * FROM test where user_id='{i}'\") \n",
    "        cursor.fetchall()\n",
    "        later = datetime.now()\n",
    "    return (later-now).total_seconds()"
   ]
  },
  {
   "cell_type": "code",
   "execution_count": 130,
   "id": "12286b8c",
   "metadata": {},
   "outputs": [
    {
     "name": "stderr",
     "output_type": "stream",
     "text": [
      "100%|████████████████████████████████████████████████████████████████████████████████████████████████████████████████████████████████████████████████████████████████████████████████| 2000/2000 [00:13<00:00, 148.42it/s]\n"
     ]
    }
   ],
   "source": [
    "df['Vertica select_2'] = df['num'].progress_apply(test_select)"
   ]
  },
  {
   "cell_type": "markdown",
   "id": "280a41e2",
   "metadata": {},
   "source": [
    "# Сравнение"
   ]
  },
  {
   "cell_type": "code",
   "execution_count": 125,
   "id": "8ac15831",
   "metadata": {},
   "outputs": [
    {
     "data": {
      "text/plain": [
       "<Axes: ylabel='Frequency'>"
      ]
     },
     "execution_count": 125,
     "metadata": {},
     "output_type": "execute_result"
    },
    {
     "data": {
      "image/png": "[encoded data removed]",
      "text/plain": [
       "<Figure size 640x480 with 1 Axes>"
      ]
     },
     "metadata": {},
     "output_type": "display_data"
    }
   ],
   "source": [
    "df[['ClickHouse insert', 'Vertica insert']].plot.hist(alpha=0.5)"
   ]
  },
  {
   "cell_type": "code",
   "execution_count": 147,
   "id": "78012b19",
   "metadata": {},
   "outputs": [
    {
     "data": {
      "text/plain": [
       "1.2564008325"
      ]
     },
     "execution_count": 147,
     "metadata": {},
     "output_type": "execute_result"
    }
   ],
   "source": [
    "df['Vertica insert'].mean() - df['ClickHouse insert'].mean() "
   ]
  },
  {
   "cell_type": "code",
   "execution_count": 134,
   "id": "413799e9",
   "metadata": {},
   "outputs": [
    {
     "data": {
      "text/plain": [
       "<Axes: ylabel='Frequency'>"
      ]
     },
     "execution_count": 134,
     "metadata": {},
     "output_type": "execute_result"
    },
    {
     "data": {
      "image/png": "[encoded data removed]",
      "text/plain": [
       "<Figure size 640x480 with 1 Axes>"
      ]
     },
     "metadata": {},
     "output_type": "display_data"
    }
   ],
   "source": [
    "df[['ClickHouse select_1','Vertica select_1']].plot.hist(alpha=0.3)"
   ]
  },
  {
   "cell_type": "code",
   "execution_count": 136,
   "id": "013e6553",
   "metadata": {},
   "outputs": [
    {
     "data": {
      "text/plain": [
       "<Axes: ylabel='Frequency'>"
      ]
     },
     "execution_count": 136,
     "metadata": {},
     "output_type": "execute_result"
    },
    {
     "data": {
      "image/png": "[encoded data removed]",
      "text/plain": [
       "<Figure size 640x480 with 1 Axes>"
      ]
     },
     "metadata": {},
     "output_type": "display_data"
    }
   ],
   "source": [
    "df[['ClickHouse select_2','Vertica select_2']].plot.hist(alpha=0.5)"
   ]
  },
  {
   "cell_type": "code",
   "execution_count": 137,
   "id": "615e464c",
   "metadata": {},
   "outputs": [
    {
     "data": {
      "text/plain": [
       "<Axes: >"
      ]
     },
     "execution_count": 137,
     "metadata": {},
     "output_type": "execute_result"
    },
    {
     "data": {
      "image/png": "[encoded data removed]",
      "text/plain": [
       "<Figure size 640x480 with 1 Axes>"
      ]
     },
     "metadata": {},
     "output_type": "display_data"
    }
   ],
   "source": [
    "df[['ClickHouse insert', 'ClickHouse select_1','ClickHouse select_2', 'Vertica insert', 'Vertica select_1','Vertica select_2']].boxplot()"
   ]
  },
  {
   "cell_type": "code",
   "execution_count": 138,
   "id": "dab8c4bb",
   "metadata": {},
   "outputs": [
    {
     "data": {
      "text/plain": [
       "<Axes: >"
      ]
     },
     "execution_count": 138,
     "metadata": {},
     "output_type": "execute_result"
    },
    {
     "data": {
      "image/png": "[encoded data removed]",
      "text/plain": [
       "<Figure size 640x480 with 1 Axes>"
      ]
     },
     "metadata": {},
     "output_type": "display_data"
    }
   ],
   "source": [
    "df[['ClickHouse insert', 'Vertica insert']].boxplot()"
   ]
  },
  {
   "cell_type": "code",
   "execution_count": 140,
   "id": "3fe066ba",
   "metadata": {},
   "outputs": [
    {
     "data": {
      "text/plain": [
       "<Axes: >"
      ]
     },
     "execution_count": 140,
     "metadata": {},
     "output_type": "execute_result"
    },
    {
     "data": {
      "image/png": "[encoded data removed]",
      "text/plain": [
       "<Figure size 640x480 with 1 Axes>"
      ]
     },
     "metadata": {},
     "output_type": "display_data"
    }
   ],
   "source": [
    "df[['ClickHouse select_1', 'Vertica select_1']].boxplot()"
   ]
  },
  {
   "cell_type": "code",
   "execution_count": 141,
   "id": "46eb3599",
   "metadata": {},
   "outputs": [
    {
     "data": {
      "text/plain": [
       "<Axes: >"
      ]
     },
     "execution_count": 141,
     "metadata": {},
     "output_type": "execute_result"
    },
    {
     "data": {
      "image/png": "[encoded data removed]",
      "text/plain": [
       "<Figure size 640x480 with 1 Axes>"
      ]
     },
     "metadata": {},
     "output_type": "display_data"
    }
   ],
   "source": [
    "df[['ClickHouse select_2', 'Vertica select_2']].boxplot()"
   ]
  },
  {
   "cell_type": "code",
   "execution_count": null,
   "id": "f9cb7660",
   "metadata": {},
   "outputs": [],
   "source": []
  }
 ],
 "metadata": {
  "kernelspec": {
   "display_name": "Python 3 (ipykernel)",
   "language": "python",
   "name": "python3"
  },
  "language_info": {
   "codemirror_mode": {
    "name": "ipython",
    "version": 3
   },
   "file_extension": ".py",
   "mimetype": "text/x-python",
   "name": "python",
   "nbconvert_exporter": "python",
   "pygments_lexer": "ipython3",
   "version": "3.10.12"
  }
 },
 "nbformat": 4,
 "nbformat_minor": 5
}
